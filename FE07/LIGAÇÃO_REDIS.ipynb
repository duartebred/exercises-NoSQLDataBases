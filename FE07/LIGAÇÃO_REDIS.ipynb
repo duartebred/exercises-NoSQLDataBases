{
 "cells": [
  {
   "cell_type": "code",
   "execution_count": 38,
   "metadata": {},
   "outputs": [],
   "source": [
    "#pip install redis\n",
    "#pip install oracledb\n",
    "import oracledb\n",
    "import redis\n",
    "import json"
   ]
  },
  {
   "cell_type": "code",
   "execution_count": 31,
   "metadata": {},
   "outputs": [],
   "source": [
    "#Conection oracle\n",
    "\n",
    "connection = oracledb.connect(user=\"EU\", password=\"XXXXXXXXXXXXX\", dsn=\"localhost/ORCLCDB\")\n",
    "cursor = connection.cursor()\n",
    "host='localhost'\n",
    "port=6379\n",
    "\n",
    "#Conection redis\n",
    "\n",
    "def connect_to_redis(host, port):\n",
    "    r = redis.Redis(host='localhost', port=6379)\n",
    "    try:\n",
    "        r.ping()\n",
    "        print(\"Connected to Redis\")\n",
    "        return r\n",
    "    except redis.ConnectionError:\n",
    "        print(\"Error: Could not connect to Redis\")\n",
    "        return None\n",
    "    \n",
    "connect_to_redis('localhost', 6379)\n",
    "\n",
    "\n",
    "redis_conn = connect_to_redis(host,port)\n"
   ]
  },
  {
   "cell_type": "code",
   "execution_count": null,
   "metadata": {},
   "outputs": [],
   "source": [
    "#QUERY\n",
    "\n",
    "query=\"SELECT * FROM AUTOR WHERE ID_AUTOR = 5\"\n",
    "query2= \"SELECT * FROM AUTOR WHERE ID_AUTOR = 3\"\n"
   ]
  },
  {
   "cell_type": "code",
   "execution_count": 27,
   "metadata": {},
   "outputs": [],
   "source": [
    "#Buscar querys\n",
    "\n",
    "def execute_oracle_query(cursor, query):\n",
    "    cursor.execute(query)\n",
    "    return cursor.fetchall()\n",
    "\n",
    "def check_redis_cache(redis_conn, query):\n",
    "    result = redis_conn.get(query)\n",
    "    if result:\n",
    "        print(\"Result found in cache\")\n",
    "        return json.loads(result)\n",
    "    else:\n",
    "        print(\"Result not found in cache\")\n",
    "        return None\n",
    "\n",
    "def cache_query_result(redis_conn, query, result):\n",
    "    redis_conn.setex(query, 3600, json.dumps(result))"
   ]
  },
  {
   "cell_type": "code",
   "execution_count": 35,
   "metadata": {},
   "outputs": [],
   "source": [
    "#Ver se a query está no redis\n",
    "\n",
    "def check (redis_conn, query):\n",
    "\n",
    "        cached_result= check_redis_cache(redis_conn, query)\n",
    "\n",
    "        if cached_result:\n",
    "                print(\"Using cached result:\")\n",
    "                print(cached_result)\n",
    "        else:\n",
    "  \n",
    "                result = execute_oracle_query(cursor, query)\n",
    "                cache_query_result(redis_conn, query, result)\n",
    "                print(\"Query result:\")\n",
    "                print(result)"
   ]
  },
  {
   "cell_type": "code",
   "execution_count": 37,
   "metadata": {},
   "outputs": [
    {
     "name": "stdout",
     "output_type": "stream",
     "text": [
      "Result found in cache\n",
      "Using cached result:\n",
      "[[3, 'Ami Onuki']]\n"
     ]
    }
   ],
   "source": [
    "check(redis_conn, query2)"
   ]
  }
 ],
 "metadata": {
  "kernelspec": {
   "display_name": "anaconda3",
   "language": "python",
   "name": "python3"
  },
  "language_info": {
   "codemirror_mode": {
    "name": "ipython",
    "version": 3
   },
   "file_extension": ".py",
   "mimetype": "text/x-python",
   "name": "python",
   "nbconvert_exporter": "python",
   "pygments_lexer": "ipython3",
   "version": "3.10.11"
  },
  "orig_nbformat": 4
 },
 "nbformat": 4,
 "nbformat_minor": 2
}
